{
 "cells": [
  {
   "cell_type": "markdown",
   "metadata": {},
   "source": [
    "# Deep Learning Minor Homework 3."
   ]
  },
  {
   "cell_type": "code",
   "execution_count": 1,
   "metadata": {},
   "outputs": [
    {
     "name": "stderr",
     "output_type": "stream",
     "text": [
      "Using TensorFlow backend.\n"
     ]
    }
   ],
   "source": [
    "import pandas as pd\n",
    "import numpy as np\n",
    "import matplotlib.pyplot as plt\n",
    "%matplotlib inline\n",
    "\n",
    "from keras.models import Sequential, load_model\n",
    "from keras.layers import Dense, Dropout, Activation\n",
    "from keras.callbacks import EarlyStopping, ModelCheckpoint, ReduceLROnPlateau\n",
    "from keras.optimizers import SGD, Adam\n",
    "\n",
    "from sklearn.preprocessing import StandardScaler, MinMaxScaler\n",
    "from sklearn.metrics import mean_squared_error\n",
    "\n",
    "import random\n",
    "import os.path\n",
    "import datetime\n",
    "\n",
    "import urllib\n",
    "from bs4 import BeautifulSoup"
   ]
  },
  {
   "cell_type": "markdown",
   "metadata": {},
   "source": [
    "## Generate the dates used"
   ]
  },
  {
   "cell_type": "markdown",
   "metadata": {},
   "source": [
    "Our dataset starts at 2009 August, so we generate months from that date until present:"
   ]
  },
  {
   "cell_type": "code",
   "execution_count": 2,
   "metadata": {},
   "outputs": [],
   "source": [
    "currentDate = datetime.datetime.now()\n",
    "years = range(2009, currentDate.year+1)\n",
    "months = range(1, 13)\n",
    "dates = [[y,m] for y in years for m in months if not \n",
    "         ((y == currentDate.year and m > currentDate.month)\n",
    "          or\n",
    "          (y == 2009 and m < 8)\n",
    "         )]"
   ]
  },
  {
   "cell_type": "markdown",
   "metadata": {},
   "source": [
    "The days in the future to be predicted:"
   ]
  },
  {
   "cell_type": "code",
   "execution_count": 3,
   "metadata": {},
   "outputs": [],
   "source": [
    "futureDays = [1, 7, 28]"
   ]
  },
  {
   "cell_type": "markdown",
   "metadata": {},
   "source": [
    "# Downloading data"
   ]
  },
  {
   "cell_type": "markdown",
   "metadata": {},
   "source": [
    "## Scraping a website for weather data"
   ]
  },
  {
   "cell_type": "markdown",
   "metadata": {},
   "source": [
    "I used data from three cities:\n",
    "- Budapest, where the weather is to be predicted,\n",
    "- Szeged and Vienna which are located in the direction of dominant winds: their weather might be a good indication of future Budapest weather."
   ]
  },
  {
   "cell_type": "code",
   "execution_count": 4,
   "metadata": {},
   "outputs": [],
   "source": [
    "cities = [10602, # Budapest XI: district\n",
    "          1023, # Szeged\n",
    "          5412 # Vienna\n",
    "         ]\n",
    "nCity = len(cities)"
   ]
  },
  {
   "cell_type": "markdown",
   "metadata": {},
   "source": [
    "Download the data form `metnet.hu`"
   ]
  },
  {
   "cell_type": "code",
   "execution_count": 5,
   "metadata": {
    "scrolled": true
   },
   "outputs": [],
   "source": [
    "def downloadMonths(dates, cities):\n",
    "    url = 'https://www.metnet.hu/napi-adatok'\n",
    "    dataset = []\n",
    "    for d in dates:\n",
    "        monthDataByCities = []\n",
    "        for c in cities:\n",
    "            params = {\"sub\" : \"4\",\n",
    "                      \"pid\" : c,\n",
    "                      \"date\" : str(d[0]) + \"-\" + str(d[1])}\n",
    "            # Query the site:\n",
    "            queryString = urllib.parse.urlencode(params)\n",
    "            req = urllib.request.Request(url + '?' + queryString)\n",
    "            # Parse the result:\n",
    "            soup = BeautifulSoup(urllib.request.urlopen(req).read(), 'html.parser')\n",
    "            #weatherData = extractWeatherDataFromSoup(soup)\n",
    "            monthTable = [\n",
    "                [\n",
    "                    [td.get_text(\" \", strip=True) for td in tr.find_all('td')]\n",
    "                    for tr in table.find_all('tr')\n",
    "                ] \n",
    "            for table in soup.find_all('table')\n",
    "            ][1]\n",
    "            monthWeatherData = [\n",
    "                [\n",
    "                    d[0], # Year\n",
    "                    d[1], # Month\n",
    "                    int(m[0][:-1]), # Day\n",
    "                    # Weather data:\n",
    "                    # Convert min, max temp (Celsius) and rainfall (mm) to float\n",
    "                    # There are a really small amount of days when the rain is not\n",
    "                    # logged, those can be assumed to be zero\n",
    "                    *[float(mi[:-3].replace(',', '.')) if mi != '' else 0 for mi in m[1:4]]\n",
    "                ]   \n",
    "                for m in monthTable[1:] if m[0][0:7] != 'Leírás:'\n",
    "            ]\n",
    "            monthDataByCities.append(monthWeatherData)\n",
    "        # Merge the data of separate cities by date\n",
    "        # and add them to the dataset\n",
    "        monthDataByCities = np.array(monthDataByCities)\n",
    "        for i in range(monthDataByCities.shape[1]):\n",
    "            row = [*monthDataByCities[0,i,:2],\n",
    "                   monthDataByCities[0,i,2],\n",
    "                   *monthDataByCities[:,i,3:].flatten()]\n",
    "            dataset.append(row)\n",
    "        print(d)\n",
    "    return dataset"
   ]
  },
  {
   "cell_type": "markdown",
   "metadata": {},
   "source": [
    "## Generating the training dataset"
   ]
  },
  {
   "cell_type": "markdown",
   "metadata": {},
   "source": [
    "This section only needs to be ran for generating the training dataset."
   ]
  },
  {
   "cell_type": "code",
   "execution_count": 6,
   "metadata": {
    "scrolled": true
   },
   "outputs": [
    {
     "name": "stdout",
     "output_type": "stream",
     "text": [
      "[2009, 8]\n",
      "[2009, 9]\n",
      "[2009, 10]\n",
      "[2009, 11]\n",
      "[2009, 12]\n",
      "[2010, 1]\n",
      "[2010, 2]\n",
      "[2010, 3]\n",
      "[2010, 4]\n",
      "[2010, 5]\n",
      "[2010, 6]\n",
      "[2010, 7]\n",
      "[2010, 8]\n",
      "[2010, 9]\n",
      "[2010, 10]\n",
      "[2010, 11]\n",
      "[2010, 12]\n",
      "[2011, 1]\n",
      "[2011, 2]\n",
      "[2011, 3]\n",
      "[2011, 4]\n",
      "[2011, 5]\n",
      "[2011, 6]\n",
      "[2011, 7]\n",
      "[2011, 8]\n",
      "[2011, 9]\n",
      "[2011, 10]\n",
      "[2011, 11]\n",
      "[2011, 12]\n",
      "[2012, 1]\n",
      "[2012, 2]\n",
      "[2012, 3]\n",
      "[2012, 4]\n",
      "[2012, 5]\n",
      "[2012, 6]\n",
      "[2012, 7]\n",
      "[2012, 8]\n",
      "[2012, 9]\n",
      "[2012, 10]\n",
      "[2012, 11]\n",
      "[2012, 12]\n",
      "[2013, 1]\n",
      "[2013, 2]\n",
      "[2013, 3]\n",
      "[2013, 4]\n",
      "[2013, 5]\n",
      "[2013, 6]\n",
      "[2013, 7]\n",
      "[2013, 8]\n",
      "[2013, 9]\n",
      "[2013, 10]\n",
      "[2013, 11]\n",
      "[2013, 12]\n",
      "[2014, 1]\n",
      "[2014, 2]\n",
      "[2014, 3]\n",
      "[2014, 4]\n",
      "[2014, 5]\n",
      "[2014, 6]\n",
      "[2014, 7]\n",
      "[2014, 8]\n",
      "[2014, 9]\n",
      "[2014, 10]\n",
      "[2014, 11]\n",
      "[2014, 12]\n",
      "[2015, 1]\n",
      "[2015, 2]\n",
      "[2015, 3]\n",
      "[2015, 4]\n",
      "[2015, 5]\n",
      "[2015, 6]\n",
      "[2015, 7]\n",
      "[2015, 8]\n",
      "[2015, 9]\n",
      "[2015, 10]\n",
      "[2015, 11]\n",
      "[2015, 12]\n",
      "[2016, 1]\n",
      "[2016, 2]\n",
      "[2016, 3]\n",
      "[2016, 4]\n",
      "[2016, 5]\n",
      "[2016, 6]\n",
      "[2016, 7]\n",
      "[2016, 8]\n",
      "[2016, 9]\n",
      "[2016, 10]\n",
      "[2016, 11]\n",
      "[2016, 12]\n",
      "[2017, 1]\n",
      "[2017, 2]\n",
      "[2017, 3]\n",
      "[2017, 4]\n",
      "[2017, 5]\n",
      "[2017, 6]\n",
      "[2017, 7]\n",
      "[2017, 8]\n",
      "[2017, 9]\n",
      "[2017, 10]\n",
      "[2017, 11]\n",
      "[2017, 12]\n",
      "[2018, 1]\n",
      "[2018, 2]\n",
      "[2018, 3]\n",
      "[2018, 4]\n",
      "[2018, 5]\n",
      "[2018, 6]\n",
      "[2018, 7]\n",
      "[2018, 8]\n",
      "[2018, 9]\n",
      "[2018, 10]\n",
      "[2018, 11]\n",
      "[2018, 12]\n",
      "[2019, 1]\n",
      "[2019, 2]\n",
      "[2019, 3]\n",
      "[2019, 4]\n",
      "[2019, 5]\n",
      "[2019, 6]\n",
      "[2019, 7]\n",
      "[2019, 8]\n",
      "[2019, 9]\n",
      "[2019, 10]\n"
     ]
    }
   ],
   "source": [
    "dataset = []\n",
    "dataset = downloadMonths(dates, cities)"
   ]
  },
  {
   "cell_type": "code",
   "execution_count": 7,
   "metadata": {},
   "outputs": [
    {
     "data": {
      "text/plain": [
       "[2019.0, 10.0, 31.0, 0.0, 0.0, 0.0, 0.0, 0.0, 0.0, 0.0, 0.0, 0.0]"
      ]
     },
     "execution_count": 7,
     "metadata": {},
     "output_type": "execute_result"
    }
   ],
   "source": [
    "dataset[-1]"
   ]
  },
  {
   "cell_type": "markdown",
   "metadata": {},
   "source": [
    "The latest month's data has empty rows after (and sometimes including) the present day, drop those, and make a numpy array:"
   ]
  },
  {
   "cell_type": "code",
   "execution_count": 8,
   "metadata": {},
   "outputs": [],
   "source": [
    "dataset = np.array(\n",
    "    [d for d in dataset if not (d[0]==currentDate.year and d[1]==currentDate.month and d[2]>=currentDate.day)])"
   ]
  },
  {
   "cell_type": "markdown",
   "metadata": {},
   "source": [
    "The resulting dataset has 12 columns:"
   ]
  },
  {
   "cell_type": "code",
   "execution_count": 9,
   "metadata": {},
   "outputs": [
    {
     "data": {
      "text/plain": [
       "array([2.019e+03, 1.000e+01, 2.800e+01, 9.900e+00, 1.970e+01, 0.000e+00,\n",
       "       5.200e+00, 2.080e+01, 0.000e+00, 9.400e+00, 1.930e+01, 5.000e-01])"
      ]
     },
     "execution_count": 9,
     "metadata": {},
     "output_type": "execute_result"
    }
   ],
   "source": [
    "header = ['Year', 'Month', 'Day', \n",
    "          'Min temperature C [Budapest XI]', 'Max temperature C [Budapest XI]', 'Rain mm [Budapest XI]',\n",
    "          'Min temperature C [Szeged]', 'Max temperature C [Szeged]', 'Rain mm [Szeged]',\n",
    "          'Min temperature C [Sopron]', 'Max temperature C [Sopron]', 'Rain mm [Sopron]',\n",
    "         ]\n",
    "dataset[-1]"
   ]
  },
  {
   "cell_type": "markdown",
   "metadata": {},
   "source": [
    "Visualize the min and max temperatures over time in Budapest:"
   ]
  },
  {
   "cell_type": "code",
   "execution_count": 10,
   "metadata": {},
   "outputs": [
    {
     "data": {
      "image/png": "[encoded data removed]",
      "text/plain": [
       "<Figure size 432x288 with 1 Axes>"
      ]
     },
     "metadata": {
      "needs_background": "light"
     },
     "output_type": "display_data"
    }
   ],
   "source": [
    "plt.plot(dataset[:,3])\n",
    "plt.plot(dataset[:,4])\n",
    "plt.title('Temperatures in dataset')\n",
    "plt.ylabel('Temperature')\n",
    "plt.xlabel('Days')\n",
    "plt.legend(['Min. temp. (C°)', 'Max. temp. (C°)'], loc='upper right')\n",
    "plt.show()"
   ]
  },
  {
   "cell_type": "markdown",
   "metadata": {},
   "source": [
    "It seems that the date might be a good feature; we can make a rough estimate based on it, so it will certainly be included in the model."
   ]
  },
  {
   "cell_type": "markdown",
   "metadata": {},
   "source": [
    "Save the base dataset as CSV:"
   ]
  },
  {
   "cell_type": "code",
   "execution_count": 11,
   "metadata": {},
   "outputs": [],
   "source": [
    "df = pd.DataFrame(dataset, columns=header)\n",
    "df.to_csv('weatherData.csv', index=False)"
   ]
  },
  {
   "cell_type": "markdown",
   "metadata": {},
   "source": [
    "# Generating training sets"
   ]
  },
  {
   "cell_type": "markdown",
   "metadata": {},
   "source": [
    "This only uses the previously generated CSV file:"
   ]
  },
  {
   "cell_type": "code",
   "execution_count": 12,
   "metadata": {},
   "outputs": [],
   "source": [
    "def createXfromRaw(dataset, futureDays, nCity, n):\n",
    "    farthestDay = max(futureDays)\n",
    "    trainingData = []\n",
    "    for i in range(n, len(dataset)-farthestDay):\n",
    "        # Join the inputs and outputs into a single 1D array:\n",
    "        x = np.ndarray(2 + n*3*nCity)\n",
    "        # The inputs as defined above:\n",
    "        x[0:2] = dataset[i][1:3].flatten()\n",
    "        x[2:2 + n*3*nCity] = dataset[(i-n+1):(i+1)][:,3:(3+nCity*3)].flatten()\n",
    "        trainingData.append(x)\n",
    "    return np.array(trainingData)\n",
    "\n",
    "def createYfromRaw(dataset, futureDays, nCity, n):\n",
    "    farthestDay = max(futureDays)\n",
    "    days = len(futureDays)\n",
    "    trainingData = []\n",
    "    for i in range(n, len(dataset)-farthestDay):\n",
    "        # Join the inputs and outputs into a single 1D array:\n",
    "        y = np.ndarray(days)\n",
    "        # The output is the mean temperature in Budapest after the specified days\n",
    "        for d in range(1,len(futureDays)+1):\n",
    "            y[-d] = np.mean(dataset[i+futureDays[-d]][3:5])\n",
    "        trainingData.append(y)\n",
    "    return np.array(trainingData)"
   ]
  },
  {
   "cell_type": "code",
   "execution_count": 13,
   "metadata": {},
   "outputs": [],
   "source": [
    "def createTrainingData(nCity, n, futureDays=[1, 7, 28]):\n",
    "     # Data\n",
    "    df = pd.read_csv(\"weatherData.csv\")\n",
    "    dataset = df.values\n",
    "    \n",
    "    indices = list(range(dataset.shape[0]))\n",
    "    #random.shuffle(indices)\n",
    "    \n",
    "    test_split = 0.1\n",
    "    valid_split = 0.1\n",
    "\n",
    "    valid_index = int(dataset.shape[0]*(1-valid_split-test_split))\n",
    "    test_index = int(dataset.shape[0]*(1-test_split))\n",
    "\n",
    "    i_train = indices[:valid_index]\n",
    "    i_valid = indices[valid_index:test_index]\n",
    "    i_test = indices[test_index:]\n",
    "\n",
    "    # Testing data\n",
    "    X_test = createXfromRaw(dataset[i_test], futureDays, nCity, n)\n",
    "    Y_test = createYfromRaw(dataset[i_test], futureDays, nCity, n)\n",
    "\n",
    "    # Validation data\n",
    "    X_valid = createXfromRaw(dataset[i_valid], futureDays, nCity, n)\n",
    "    Y_valid = createYfromRaw(dataset[i_valid], futureDays, nCity, n)\n",
    "    \n",
    "    # Training data\n",
    "    X_train = createXfromRaw(dataset[i_train], futureDays, nCity, n)\n",
    "    Y_train = createYfromRaw(dataset[i_train], futureDays, nCity, n)\n",
    "    \n",
    "    # Scaling\n",
    "    scalerX = StandardScaler().fit(X_train)\n",
    "    X_train = scalerX.transform(X_train)\n",
    "    X_valid = scalerX.transform(X_valid)\n",
    "    X_test = scalerX.transform(X_test)\n",
    "    \n",
    "    scalerY = MinMaxScaler().fit(Y_train)\n",
    "    Y_train = scalerY.transform(Y_train)\n",
    "    Y_valid = scalerY.transform(Y_valid)\n",
    "    Y_test = scalerY.transform(Y_test)\n",
    "    \n",
    "    return X_train, X_valid, X_test, Y_train, Y_valid, Y_test, scalerX, scalerY"
   ]
  },
  {
   "cell_type": "markdown",
   "metadata": {},
   "source": [
    "# Grid search"
   ]
  },
  {
   "cell_type": "markdown",
   "metadata": {},
   "source": [
    "For hyperparameter-optimalization, I ran a grid search on the following hyperparameter-space:"
   ]
  },
  {
   "cell_type": "code",
   "execution_count": 14,
   "metadata": {},
   "outputs": [],
   "source": [
    "possible_parameters = {\n",
    "    'n' : [3, 7, 14, 21, 30],\n",
    "    'dropout_prob' : [0, 0.1, 0.2, 0.25, 0.4],\n",
    "    'es_patience' : [20, 40, 60],\n",
    "    'rop_patience' : [1, 5, 10, 20],\n",
    "    'rop_factor' : [0.1, 0.2, 0.5],\n",
    "    'activation' : ['elu', 'relu'],\n",
    "    'layer_sizes' : [0.25, 0.5, 1, 1.5, 2, 4],\n",
    "    'adam_lr' : [0.0001, 0.0005, 0.001, 0.005, 0.01, 0.05],\n",
    "    'batch_size' : [16, 32, 64, 128]\n",
    "}"
   ]
  },
  {
   "cell_type": "markdown",
   "metadata": {},
   "source": [
    "For this we need to parametrically generate DNN-s:"
   ]
  },
  {
   "cell_type": "code",
   "execution_count": 15,
   "metadata": {},
   "outputs": [],
   "source": [
    "def weatherModel(hp, verbosity=0, days=3):\n",
    "    nCity = 3\n",
    "    \n",
    "    n = hp['n']\n",
    "    \n",
    "    X_train, X_valid, X_test, Y_train, Y_valid, Y_test, scalerX, scalerY = createTrainingData(nCity, n)\n",
    "    \n",
    "    # print(X_train[0])\n",
    "    # print(Y_train[0])\n",
    "    \n",
    "    early_stopping = EarlyStopping(patience = hp['es_patience'], verbose = 1)\n",
    "    checkpointer =  ModelCheckpoint(filepath = 'weights.hdf5', save_best_only = True)\n",
    "    reduceOnPlateu = ReduceLROnPlateau(monitor='val_loss', \n",
    "                                                factor=hp['rop_factor'], patience=hp['rop_patience'], \n",
    "                                                verbose=0, mode='auto', \n",
    "                                                min_delta=0.0001, cooldown=0, min_lr=0)\n",
    "    \n",
    "    input_dim=X_train.shape[1]\n",
    "    \n",
    "    ## Network\n",
    "    model = Sequential()\n",
    "\n",
    "    # Input layer\n",
    "    model.add(Dense(int(input_dim*hp['layer_sizes'][0]),\n",
    "                    input_dim=input_dim))\n",
    "    model.add(Activation(hp['activation']))\n",
    "    model.add(Dropout(hp['dropout_prob']))\n",
    "\n",
    "    # Hidden layers\n",
    "    for i in range(1, len(hp['layer_sizes'])):\n",
    "        model.add(Dense(int(input_dim*hp['layer_sizes'][i])))\n",
    "        model.add(Activation(hp['activation']))\n",
    "        model.add(Dropout(hp['dropout_prob']))\n",
    "\n",
    "    # Output layer\n",
    "    model.add(Dense(days, activation='linear'))\n",
    "    \n",
    "    \n",
    "    adam = Adam(lr=hp['adam_lr'])\n",
    "    model.compile(loss='mse', optimizer = adam)\n",
    "    \n",
    "    random.seed()\n",
    "    \n",
    "    history = model.fit(X_train, Y_train, epochs = 1000,\n",
    "                    batch_size = hp['batch_size'],\n",
    "                    verbose = verbosity,\n",
    "                    validation_data = (X_valid, Y_valid),\n",
    "                    callbacks = [checkpointer, early_stopping, reduceOnPlateu])\n",
    "    \n",
    "    # Error\n",
    "    \n",
    "    preds = model.predict(X_test)\n",
    "    \n",
    "    test_err = mean_squared_error(Y_test, preds)\n",
    "    mse_test = test_err\n",
    "    eC_test = np.sqrt(test_err)/scalerY.scale_[0]\n",
    "        \n",
    "    return (hp, history, (mse_test, eC_test)), model"
   ]
  },
  {
   "cell_type": "code",
   "execution_count": 16,
   "metadata": {},
   "outputs": [],
   "source": [
    "def tryRandomWeatherModel(possible_parameters, futureDays = [1, 7, 28],verbosity=0):\n",
    "        \n",
    "    # Hyperparameters\n",
    "    hp = {}\n",
    "    \n",
    "    days = len(futureDays)\n",
    "    \n",
    "    layer_num = random.choice([3, 4, 5, 6, 7, 8])\n",
    "    for p in possible_parameters:\n",
    "        if p is 'layer_sizes':\n",
    "            hp[p] = []\n",
    "            for i in range(layer_num):\n",
    "                hp[p].append(random.choice(possible_parameters[p]))\n",
    "        else:\n",
    "            hp[p] = random.choice(possible_parameters[p])\n",
    "    \n",
    "    print()\n",
    "    print(\"---------\")\n",
    "    print(hp)\n",
    "    print(\"Training...\")\n",
    "    \n",
    "    (hp, history, (mse_test, eC_test)), model = weatherModel(hp, days=days, verbosity=verbosity)\n",
    "    \n",
    "    print(\"MSE of test data:\", mse_test)\n",
    "    print(\"in Celsius:\", eC_test)\n",
    "    \n",
    "    return hp, history, (mse_test, eC_test)\n"
   ]
  },
  {
   "cell_type": "markdown",
   "metadata": {},
   "source": [
    "Running the grid search and saving params and results to a file (this is an infinite loop that I ran for about a thousand grid points for a day):"
   ]
  },
  {
   "cell_type": "code",
   "execution_count": null,
   "metadata": {
    "scrolled": true
   },
   "outputs": [],
   "source": [
    "# Infinite loop, only run when grid search is needed!\n",
    "\n",
    "filename = \"gridSearch.csv\"\n",
    "\n",
    "if os.path.isfile(filename):\n",
    "    file = open(filename, 'a')\n",
    "else:\n",
    "    file = open(filename, 'w')\n",
    "    header = [*possible_parameters.keys(), \"MSE\", \"Celsius error\"]\n",
    "    file.write(';'.join(header) + \"\\n\")\n",
    "\n",
    "while True:\n",
    "    try:\n",
    "        params, history, error = tryRandomWeatherModel(possible_parameters,\n",
    "                                                      verbosity = 0, futureDay = futureDays)\n",
    "        row = [*params.values(), *error]\n",
    "        row = [str(r) for r in row]\n",
    "        file.write(';'.join(row) + \"\\n\")\n",
    "        \n",
    "    except KeyboardInterrupt:\n",
    "        print(\"Keyboard interrupt!\")\n",
    "        file.close()\n",
    "        break\n",
    "    except Exception as e:\n",
    "        print(e)\n",
    "        file.close()"
   ]
  },
  {
   "cell_type": "markdown",
   "metadata": {},
   "source": [
    "# The final model"
   ]
  },
  {
   "cell_type": "markdown",
   "metadata": {},
   "source": [
    "Almost 1000 different grid points were tried. The best hyperparameters found were these:"
   ]
  },
  {
   "cell_type": "code",
   "execution_count": 17,
   "metadata": {},
   "outputs": [],
   "source": [
    "hp = {'n': 7,\n",
    " 'dropout_prob': 0.1,\n",
    " 'es_patience': 40,\n",
    " 'rop_patience': 5,\n",
    " 'rop_factor': 0.1,\n",
    " 'activation': 'elu',\n",
    " 'layer_sizes': [2, 0.5, 2, 0.25, 2],\n",
    " 'adam_lr': 0.005,\n",
    " 'batch_size': 32}"
   ]
  },
  {
   "cell_type": "markdown",
   "metadata": {},
   "source": [
    "Retrain a model using these to see the details:"
   ]
  },
  {
   "cell_type": "code",
   "execution_count": 18,
   "metadata": {},
   "outputs": [],
   "source": [
    "X_train, X_valid, X_test, Y_train, Y_valid, Y_test, scalerX, scalerY = createTrainingData(3, hp['n'])"
   ]
  },
  {
   "cell_type": "code",
   "execution_count": 19,
   "metadata": {
    "scrolled": true
   },
   "outputs": [
    {
     "name": "stdout",
     "output_type": "stream",
     "text": [
      "WARNING:tensorflow:From C:\\Users\\T\\.conda\\envs\\tensorflow_env\\lib\\site-packages\\keras\\backend\\tensorflow_backend.py:74: The name tf.get_default_graph is deprecated. Please use tf.compat.v1.get_default_graph instead.\n",
      "\n",
      "WARNING:tensorflow:From C:\\Users\\T\\.conda\\envs\\tensorflow_env\\lib\\site-packages\\keras\\backend\\tensorflow_backend.py:517: The name tf.placeholder is deprecated. Please use tf.compat.v1.placeholder instead.\n",
      "\n",
      "WARNING:tensorflow:From C:\\Users\\T\\.conda\\envs\\tensorflow_env\\lib\\site-packages\\keras\\backend\\tensorflow_backend.py:4138: The name tf.random_uniform is deprecated. Please use tf.random.uniform instead.\n",
      "\n",
      "WARNING:tensorflow:From C:\\Users\\T\\.conda\\envs\\tensorflow_env\\lib\\site-packages\\keras\\backend\\tensorflow_backend.py:133: The name tf.placeholder_with_default is deprecated. Please use tf.compat.v1.placeholder_with_default instead.\n",
      "\n",
      "WARNING:tensorflow:From C:\\Users\\T\\.conda\\envs\\tensorflow_env\\lib\\site-packages\\keras\\backend\\tensorflow_backend.py:3445: calling dropout (from tensorflow.python.ops.nn_ops) with keep_prob is deprecated and will be removed in a future version.\n",
      "Instructions for updating:\n",
      "Please use `rate` instead of `keep_prob`. Rate should be set to `rate = 1 - keep_prob`.\n",
      "WARNING:tensorflow:From C:\\Users\\T\\.conda\\envs\\tensorflow_env\\lib\\site-packages\\keras\\optimizers.py:790: The name tf.train.Optimizer is deprecated. Please use tf.compat.v1.train.Optimizer instead.\n",
      "\n",
      "WARNING:tensorflow:From C:\\Users\\T\\.conda\\envs\\tensorflow_env\\lib\\site-packages\\keras\\backend\\tensorflow_backend.py:986: The name tf.assign_add is deprecated. Please use tf.compat.v1.assign_add instead.\n",
      "\n",
      "Train on 2957 samples, validate on 339 samples\n",
      "Epoch 1/1000\n",
      "2957/2957 [==============================] - 5s 2ms/step - loss: 0.0444 - val_loss: 0.0108\n",
      "Epoch 2/1000\n",
      "2957/2957 [==============================] - 1s 454us/step - loss: 0.0148 - val_loss: 0.0098\n",
      "Epoch 3/1000\n",
      "2957/2957 [==============================] - 1s 377us/step - loss: 0.0130 - val_loss: 0.0104\n",
      "Epoch 4/1000\n",
      "2957/2957 [==============================] - 1s 352us/step - loss: 0.0125 - val_loss: 0.0098\n",
      "Epoch 5/1000\n",
      "2957/2957 [==============================] - 1s 435us/step - loss: 0.0116 - val_loss: 0.0092\n",
      "Epoch 6/1000\n",
      "2957/2957 [==============================] - 1s 340us/step - loss: 0.0112 - val_loss: 0.0097\n",
      "Epoch 7/1000\n",
      "2957/2957 [==============================] - 1s 347us/step - loss: 0.0108 - val_loss: 0.0092\n",
      "Epoch 8/1000\n",
      "2957/2957 [==============================] - 1s 341us/step - loss: 0.0109 - val_loss: 0.0089\n",
      "Epoch 9/1000\n",
      "2957/2957 [==============================] - 1s 348us/step - loss: 0.0105 - val_loss: 0.0106\n",
      "Epoch 10/1000\n",
      "2957/2957 [==============================] - 1s 450us/step - loss: 0.0104 - val_loss: 0.0087\n",
      "Epoch 11/1000\n",
      "2957/2957 [==============================] - 1s 423us/step - loss: 0.0097 - val_loss: 0.0084\n",
      "Epoch 12/1000\n",
      "2957/2957 [==============================] - 1s 482us/step - loss: 0.0100 - val_loss: 0.0087\n",
      "Epoch 13/1000\n",
      "2957/2957 [==============================] - 1s 451us/step - loss: 0.0097 - val_loss: 0.0081\n",
      "Epoch 14/1000\n",
      "2957/2957 [==============================] - 2s 617us/step - loss: 0.0096 - val_loss: 0.0105\n",
      "Epoch 15/1000\n",
      "2957/2957 [==============================] - 2s 510us/step - loss: 0.0095 - val_loss: 0.0082\n",
      "Epoch 16/1000\n",
      "2957/2957 [==============================] - 1s 441us/step - loss: 0.0093 - val_loss: 0.0077\n",
      "Epoch 17/1000\n",
      "2957/2957 [==============================] - 1s 398us/step - loss: 0.0092 - val_loss: 0.0086\n",
      "Epoch 18/1000\n",
      "2957/2957 [==============================] - 1s 403us/step - loss: 0.0093 - val_loss: 0.0102\n",
      "Epoch 19/1000\n",
      "2957/2957 [==============================] - 1s 397us/step - loss: 0.0093 - val_loss: 0.0086\n",
      "Epoch 20/1000\n",
      "2957/2957 [==============================] - 1s 436us/step - loss: 0.0092 - val_loss: 0.0079\n",
      "Epoch 21/1000\n",
      "2957/2957 [==============================] - 1s 436us/step - loss: 0.0094 - val_loss: 0.0078\n",
      "Epoch 22/1000\n",
      "2957/2957 [==============================] - 2s 572us/step - loss: 0.0078 - val_loss: 0.0070\n",
      "Epoch 23/1000\n",
      "2957/2957 [==============================] - 1s 346us/step - loss: 0.0076 - val_loss: 0.0067\n",
      "Epoch 24/1000\n",
      "2957/2957 [==============================] - 1s 349us/step - loss: 0.0075 - val_loss: 0.0066\n",
      "Epoch 25/1000\n",
      "2957/2957 [==============================] - 1s 387us/step - loss: 0.0075 - val_loss: 0.0067\n",
      "Epoch 26/1000\n",
      "2957/2957 [==============================] - 1s 438us/step - loss: 0.0075 - val_loss: 0.0065\n",
      "Epoch 27/1000\n",
      "2957/2957 [==============================] - 1s 427us/step - loss: 0.0073 - val_loss: 0.0065\n",
      "Epoch 28/1000\n",
      "2957/2957 [==============================] - 1s 402us/step - loss: 0.0072 - val_loss: 0.0066\n",
      "Epoch 29/1000\n",
      "2957/2957 [==============================] - 1s 443us/step - loss: 0.0073 - val_loss: 0.0066\n",
      "Epoch 30/1000\n",
      "2957/2957 [==============================] - 1s 388us/step - loss: 0.0074 - val_loss: 0.0066\n",
      "Epoch 31/1000\n",
      "2957/2957 [==============================] - 1s 372us/step - loss: 0.0073 - val_loss: 0.0066\n",
      "Epoch 32/1000\n",
      "2957/2957 [==============================] - 1s 360us/step - loss: 0.0071 - val_loss: 0.0064\n",
      "Epoch 33/1000\n",
      "2957/2957 [==============================] - 1s 342us/step - loss: 0.0072 - val_loss: 0.0064\n",
      "Epoch 34/1000\n",
      "2957/2957 [==============================] - 1s 314us/step - loss: 0.0071 - val_loss: 0.0064\n",
      "Epoch 35/1000\n",
      "2957/2957 [==============================] - 1s 311us/step - loss: 0.0071 - val_loss: 0.0064\n",
      "Epoch 36/1000\n",
      "2957/2957 [==============================] - 1s 303us/step - loss: 0.0071 - val_loss: 0.0064\n",
      "Epoch 37/1000\n",
      "2957/2957 [==============================] - 1s 298us/step - loss: 0.0071 - val_loss: 0.0064\n",
      "Epoch 38/1000\n",
      "2957/2957 [==============================] - 1s 321us/step - loss: 0.0071 - val_loss: 0.0064\n",
      "Epoch 39/1000\n",
      "2957/2957 [==============================] - 1s 318us/step - loss: 0.0071 - val_loss: 0.0064\n",
      "Epoch 40/1000\n",
      "2957/2957 [==============================] - 1s 417us/step - loss: 0.0071 - val_loss: 0.0064\n",
      "Epoch 41/1000\n",
      "2957/2957 [==============================] - 1s 401us/step - loss: 0.0071 - val_loss: 0.0064\n",
      "Epoch 42/1000\n",
      "2957/2957 [==============================] - 1s 352us/step - loss: 0.0071 - val_loss: 0.0064\n",
      "Epoch 43/1000\n",
      "2957/2957 [==============================] - 1s 323us/step - loss: 0.0070 - val_loss: 0.0064\n",
      "Epoch 44/1000\n",
      "2957/2957 [==============================] - 1s 312us/step - loss: 0.0070 - val_loss: 0.0064\n",
      "Epoch 45/1000\n",
      "2957/2957 [==============================] - 1s 297us/step - loss: 0.0069 - val_loss: 0.0064\n",
      "Epoch 46/1000\n",
      "2957/2957 [==============================] - 1s 306us/step - loss: 0.0071 - val_loss: 0.0064\n",
      "Epoch 47/1000\n",
      "2957/2957 [==============================] - 1s 340us/step - loss: 0.0070 - val_loss: 0.0064\n",
      "Epoch 48/1000\n",
      "2957/2957 [==============================] - 1s 318us/step - loss: 0.0071 - val_loss: 0.0064\n",
      "Epoch 49/1000\n",
      "2957/2957 [==============================] - 1s 316us/step - loss: 0.0072 - val_loss: 0.0064\n",
      "Epoch 50/1000\n",
      "2957/2957 [==============================] - 1s 317us/step - loss: 0.0072 - val_loss: 0.0064\n",
      "Epoch 51/1000\n",
      "2957/2957 [==============================] - 1s 315us/step - loss: 0.0071 - val_loss: 0.0064\n",
      "Epoch 52/1000\n",
      "2957/2957 [==============================] - 1s 310us/step - loss: 0.0072 - val_loss: 0.0064\n",
      "Epoch 53/1000\n",
      "2957/2957 [==============================] - 1s 336us/step - loss: 0.0071 - val_loss: 0.0064\n",
      "Epoch 54/1000\n",
      "2957/2957 [==============================] - 1s 329us/step - loss: 0.0071 - val_loss: 0.0064\n",
      "Epoch 55/1000\n",
      "2957/2957 [==============================] - 1s 315us/step - loss: 0.0071 - val_loss: 0.0064\n",
      "Epoch 56/1000\n",
      "2957/2957 [==============================] - 1s 378us/step - loss: 0.0071 - val_loss: 0.0064\n",
      "Epoch 57/1000\n",
      "2957/2957 [==============================] - 1s 396us/step - loss: 0.0073 - val_loss: 0.0064\n",
      "Epoch 58/1000\n",
      "2957/2957 [==============================] - 1s 361us/step - loss: 0.0069 - val_loss: 0.0064\n",
      "Epoch 59/1000\n",
      "2957/2957 [==============================] - 1s 321us/step - loss: 0.0071 - val_loss: 0.0064\n",
      "Epoch 60/1000\n",
      "2957/2957 [==============================] - 1s 322us/step - loss: 0.0072 - val_loss: 0.0064\n",
      "Epoch 61/1000\n",
      "2957/2957 [==============================] - 1s 298us/step - loss: 0.0070 - val_loss: 0.0064\n",
      "Epoch 62/1000\n",
      "2957/2957 [==============================] - 1s 322us/step - loss: 0.0071 - val_loss: 0.0064\n",
      "Epoch 63/1000\n",
      "2957/2957 [==============================] - 1s 325us/step - loss: 0.0070 - val_loss: 0.0064\n",
      "Epoch 64/1000\n",
      "2957/2957 [==============================] - 1s 332us/step - loss: 0.0071 - val_loss: 0.0064\n",
      "Epoch 65/1000\n",
      "2957/2957 [==============================] - 1s 362us/step - loss: 0.0071 - val_loss: 0.0064\n",
      "Epoch 66/1000\n",
      "2957/2957 [==============================] - 1s 344us/step - loss: 0.0071 - val_loss: 0.0064 loss: \n",
      "Epoch 67/1000\n",
      "2957/2957 [==============================] - 1s 316us/step - loss: 0.0071 - val_loss: 0.0064\n",
      "Epoch 68/1000\n",
      "2957/2957 [==============================] - 1s 308us/step - loss: 0.0071 - val_loss: 0.0064\n",
      "Epoch 69/1000\n",
      "2957/2957 [==============================] - 1s 331us/step - loss: 0.0071 - val_loss: 0.0064\n",
      "Epoch 70/1000\n",
      "2957/2957 [==============================] - 1s 321us/step - loss: 0.0070 - val_loss: 0.0064\n",
      "Epoch 71/1000\n",
      "2957/2957 [==============================] - 1s 313us/step - loss: 0.0072 - val_loss: 0.0064\n",
      "Epoch 72/1000\n",
      "2957/2957 [==============================] - 1s 370us/step - loss: 0.0071 - val_loss: 0.0064\n",
      "Epoch 73/1000\n",
      "2957/2957 [==============================] - 1s 432us/step - loss: 0.0071 - val_loss: 0.0064\n",
      "Epoch 74/1000\n",
      "2957/2957 [==============================] - 1s 437us/step - loss: 0.0072 - val_loss: 0.0064\n",
      "Epoch 75/1000\n",
      "2957/2957 [==============================] - 1s 407us/step - loss: 0.0070 - val_loss: 0.0064\n",
      "Epoch 00075: early stopping\n"
     ]
    }
   ],
   "source": [
    "etc, model = weatherModel(hp, verbosity = 1)"
   ]
  },
  {
   "cell_type": "code",
   "execution_count": 20,
   "metadata": {},
   "outputs": [
    {
     "name": "stdout",
     "output_type": "stream",
     "text": [
      "_________________________________________________________________\n",
      "Layer (type)                 Output Shape              Param #   \n",
      "=================================================================\n",
      "dense_1 (Dense)              (None, 130)               8580      \n",
      "_________________________________________________________________\n",
      "activation_1 (Activation)    (None, 130)               0         \n",
      "_________________________________________________________________\n",
      "dropout_1 (Dropout)          (None, 130)               0         \n",
      "_________________________________________________________________\n",
      "dense_2 (Dense)              (None, 32)                4192      \n",
      "_________________________________________________________________\n",
      "activation_2 (Activation)    (None, 32)                0         \n",
      "_________________________________________________________________\n",
      "dropout_2 (Dropout)          (None, 32)                0         \n",
      "_________________________________________________________________\n",
      "dense_3 (Dense)              (None, 130)               4290      \n",
      "_________________________________________________________________\n",
      "activation_3 (Activation)    (None, 130)               0         \n",
      "_________________________________________________________________\n",
      "dropout_3 (Dropout)          (None, 130)               0         \n",
      "_________________________________________________________________\n",
      "dense_4 (Dense)              (None, 16)                2096      \n",
      "_________________________________________________________________\n",
      "activation_4 (Activation)    (None, 16)                0         \n",
      "_________________________________________________________________\n",
      "dropout_4 (Dropout)          (None, 16)                0         \n",
      "_________________________________________________________________\n",
      "dense_5 (Dense)              (None, 130)               2210      \n",
      "_________________________________________________________________\n",
      "activation_5 (Activation)    (None, 130)               0         \n",
      "_________________________________________________________________\n",
      "dropout_5 (Dropout)          (None, 130)               0         \n",
      "_________________________________________________________________\n",
      "dense_6 (Dense)              (None, 3)                 393       \n",
      "=================================================================\n",
      "Total params: 21,761\n",
      "Trainable params: 21,761\n",
      "Non-trainable params: 0\n",
      "_________________________________________________________________\n"
     ]
    }
   ],
   "source": [
    "model.summary()"
   ]
  },
  {
   "cell_type": "markdown",
   "metadata": {},
   "source": [
    "Plot the training history:"
   ]
  },
  {
   "cell_type": "code",
   "execution_count": 21,
   "metadata": {},
   "outputs": [
    {
     "data": {
      "image/png": "[encoded data removed]",
      "text/plain": [
       "<Figure size 432x288 with 1 Axes>"
      ]
     },
     "metadata": {
      "needs_background": "light"
     },
     "output_type": "display_data"
    }
   ],
   "source": [
    "history = etc[1]\n",
    "# Plot training & validation loss values\n",
    "plt.plot(history.history['loss'])\n",
    "plt.plot(history.history['val_loss'])\n",
    "plt.title('Model loss')\n",
    "#plt.xscale('log')\n",
    "plt.yscale('log')\n",
    "plt.ylabel('Loss')\n",
    "plt.xlabel('Epoch')\n",
    "plt.legend(['Train', 'Validation'], loc='upper right')\n",
    "plt.show()"
   ]
  },
  {
   "cell_type": "markdown",
   "metadata": {},
   "source": [
    "## Accuracy"
   ]
  },
  {
   "cell_type": "code",
   "execution_count": 22,
   "metadata": {},
   "outputs": [
    {
     "name": "stdout",
     "output_type": "stream",
     "text": [
      "MSE on test data (scaled): 0.005673421806295272\n",
      "Mean error on test data (Celsius): 3.182359582621039\n"
     ]
    }
   ],
   "source": [
    "from sklearn.metrics import mean_squared_error\n",
    "preds = model.predict(X_test)\n",
    "test_err = mean_squared_error(Y_test, preds)\n",
    "print(\"MSE on test data (scaled):\", test_err)\n",
    "print(\"Mean error on test data (Celsius):\", np.sqrt(test_err)/scalerY.scale_[0])"
   ]
  },
  {
   "cell_type": "code",
   "execution_count": 23,
   "metadata": {},
   "outputs": [
    {
     "name": "stdout",
     "output_type": "stream",
     "text": [
      "MSE on test data for 1 days in the future (scaled): 0.0022202645122983565\n",
      "Mean error on test data for 1 days in the future (Celsius): 1.9908066005980052\n",
      "\n",
      "MSE on test data for 7 days in the future (scaled): 0.006806629368785715\n",
      "Mean error on test data for 7 days in the future (Celsius): 3.4857221400476046\n",
      "\n",
      "MSE on test data for 28 days in the future (scaled): 0.007993371537801743\n",
      "Mean error on test data for 28 days in the future (Celsius): 3.7773890163308868\n",
      "\n"
     ]
    }
   ],
   "source": [
    "for i in range(len(futureDays)):\n",
    "    mse = mean_squared_error(Y_test[:,i], preds[:,i])\n",
    "    celsius = np.sqrt(mse)/scalerY.scale_[0]\n",
    "    print(\"MSE on test data for {} days in the future (scaled):\".format(futureDays[i]), mse)\n",
    "    print(\"Mean error on test data for {} days in the future (Celsius):\".format(futureDays[i]), celsius)\n",
    "    print()"
   ]
  },
  {
   "cell_type": "code",
   "execution_count": 24,
   "metadata": {},
   "outputs": [],
   "source": [
    "predsC = scalerY.inverse_transform(preds)\n",
    "Y_testC = scalerY.inverse_transform(Y_test)\n",
    "diff = (predsC-Y_testC).T"
   ]
  },
  {
   "cell_type": "markdown",
   "metadata": {},
   "source": [
    "The accuracy of the predictions spread out as we look at farther days:"
   ]
  },
  {
   "cell_type": "code",
   "execution_count": 25,
   "metadata": {},
   "outputs": [
    {
     "data": {
      "image/png": "[encoded data removed]",
      "text/plain": [
       "<Figure size 432x288 with 1 Axes>"
      ]
     },
     "metadata": {
      "needs_background": "light"
     },
     "output_type": "display_data"
    },
    {
     "data": {
      "image/png": "[encoded data removed]",
      "text/plain": [
       "<Figure size 432x288 with 1 Axes>"
      ]
     },
     "metadata": {
      "needs_background": "light"
     },
     "output_type": "display_data"
    },
    {
     "data": {
      "image/png": "[encoded data removed]",
      "text/plain": [
       "<Figure size 432x288 with 1 Axes>"
      ]
     },
     "metadata": {
      "needs_background": "light"
     },
     "output_type": "display_data"
    }
   ],
   "source": [
    "colors = ['green', 'orange', 'red']\n",
    "for i in range(len(diff)):\n",
    "    plt.hist(diff[i], 50, range = (-12, 12), facecolor=colors[i], alpha=0.5)\n",
    "    plt.title(str(futureDays[i]) + ' days in the future')\n",
    "    plt.show()"
   ]
  },
  {
   "cell_type": "code",
   "execution_count": 26,
   "metadata": {},
   "outputs": [
    {
     "data": {
      "text/plain": [
       "<matplotlib.legend.Legend at 0x17834003ef0>"
      ]
     },
     "execution_count": 26,
     "metadata": {},
     "output_type": "execute_result"
    },
    {
     "data": {
      "image/png": "[encoded data removed]",
      "text/plain": [
       "<Figure size 720x720 with 1 Axes>"
      ]
     },
     "metadata": {
      "needs_background": "light"
     },
     "output_type": "display_data"
    }
   ],
   "source": [
    "import seaborn as sns\n",
    "plt.figure(figsize=(10,10))\n",
    "for i in range(len(futureDays)):\n",
    "    sns.regplot(x=Y_testC[:,i], y=predsC[:,i].reshape(-1), label=str(futureDays[i]))\n",
    "plt.legend(labels=futureDays)"
   ]
  },
  {
   "cell_type": "markdown",
   "metadata": {},
   "source": [
    "# Final prediction"
   ]
  },
  {
   "cell_type": "markdown",
   "metadata": {},
   "source": [
    "Get the latest data for the current month:"
   ]
  },
  {
   "cell_type": "code",
   "execution_count": 27,
   "metadata": {},
   "outputs": [
    {
     "name": "stdout",
     "output_type": "stream",
     "text": [
      "[2019, 10]\n"
     ]
    }
   ],
   "source": [
    "todayDataset=downloadMonths([[2019,10]], cities)"
   ]
  },
  {
   "cell_type": "markdown",
   "metadata": {},
   "source": [
    "Delete the empty rows of future days:"
   ]
  },
  {
   "cell_type": "code",
   "execution_count": 28,
   "metadata": {},
   "outputs": [],
   "source": [
    "todayDataset = np.array(\n",
    "    [d for d in todayDataset if not (d[0]==currentDate.year and d[1]==currentDate.month and d[2]>currentDate.day)])"
   ]
  },
  {
   "cell_type": "markdown",
   "metadata": {},
   "source": [
    "Check today's data:"
   ]
  },
  {
   "cell_type": "code",
   "execution_count": 29,
   "metadata": {},
   "outputs": [
    {
     "data": {
      "text/plain": [
       "array([2019. ,   10. ,   29. ,    9.8,    0. ,    0. ,    0. ,   14.4,\n",
       "          0. ,    0. ,    0. ,    0. ])"
      ]
     },
     "execution_count": 29,
     "metadata": {},
     "output_type": "execute_result"
    }
   ],
   "source": [
    "todayDataset[-1]"
   ]
  },
  {
   "cell_type": "markdown",
   "metadata": {},
   "source": [
    "Sadly today's data has not fully been uploaded to `metnet.hu` as of 10.29. 21:30. Because of this, today's data is filled in with data from `wunderground.com` at stations IBUDAP20 (Budapest XI.), ISZEGE1 (Szeged) and IINNER3 (Vienna Innere Stadt). Of course this approach is a bit flawed, since these data sources are a bit different from those previously used, but because of the time constraint I had no real other choicem and the they should be similar since it is the same weather measured after all."
   ]
  },
  {
   "cell_type": "code",
   "execution_count": 30,
   "metadata": {},
   "outputs": [],
   "source": [
    "todayDataset[-1] = np.array([2019., 10., 29., 7.8, 10.6, 3.1, 7.2, 12.4, 3.8, 7.6, 11.8, 0.])"
   ]
  },
  {
   "cell_type": "code",
   "execution_count": 31,
   "metadata": {},
   "outputs": [
    {
     "data": {
      "text/plain": [
       "array([2019. ,   10. ,   29. ,    7.8,   10.6,    3.1,    7.2,   12.4,\n",
       "          3.8,    7.6,   11.8,    0. ])"
      ]
     },
     "execution_count": 31,
     "metadata": {},
     "output_type": "execute_result"
    }
   ],
   "source": [
    "todayDataset[-1]"
   ]
  },
  {
   "cell_type": "code",
   "execution_count": 32,
   "metadata": {},
   "outputs": [],
   "source": [
    "todayX = createXfromRaw(todayDataset[-hp['n']-1:], [0], nCity, hp['n'])"
   ]
  },
  {
   "cell_type": "code",
   "execution_count": 33,
   "metadata": {},
   "outputs": [
    {
     "data": {
      "text/plain": [
       "array([[10. , 29. , 13. , 26.1,  0. ,  8.2, 26.8,  0. , 13.3, 21.4,  0. ,\n",
       "        12.9, 24.2,  0. ,  7. , 25.5,  0. , 12.8, 25.3,  0. , 10.6, 24.6,\n",
       "         0. ,  6.2, 24. ,  0. , 13.1, 21.6,  0. ,  9.1, 21.1,  0. ,  6.5,\n",
       "        22.1,  0. , 10.8, 18.7,  0. ,  8.8, 21.6,  0. ,  3.4, 21.6,  0. ,\n",
       "         9.5, 24.1,  1.1,  9.9, 19.7,  0. ,  5.2, 20.8,  0. ,  9.4, 19.3,\n",
       "         0.5,  7.8, 10.6,  3.1,  7.2, 12.4,  3.8,  7.6, 11.8,  0. ]])"
      ]
     },
     "execution_count": 33,
     "metadata": {},
     "output_type": "execute_result"
    }
   ],
   "source": [
    "todayX"
   ]
  },
  {
   "cell_type": "code",
   "execution_count": 34,
   "metadata": {},
   "outputs": [
    {
     "data": {
      "text/plain": [
       "array([[8.177751, 9.131339, 6.839386]], dtype=float32)"
      ]
     },
     "execution_count": 34,
     "metadata": {},
     "output_type": "execute_result"
    }
   ],
   "source": [
    "scalerY.inverse_transform(model.predict(scalerX.transform(todayX)))"
   ]
  },
  {
   "cell_type": "markdown",
   "metadata": {},
   "source": [
    "So the mean temperature predictions for the desired days are:\n",
    "* 30th October: 8.2 °C\n",
    "* 5th November: 9.2 °C\n",
    "* 26th November: 6.8 °C"
   ]
  }
 ],
 "metadata": {
  "kernelspec": {
   "display_name": "Python 3",
   "language": "python",
   "name": "python3"
  },
  "language_info": {
   "codemirror_mode": {
    "name": "ipython",
    "version": 3
   },
   "file_extension": ".py",
   "mimetype": "text/x-python",
   "name": "python",
   "nbconvert_exporter": "python",
   "pygments_lexer": "ipython3",
   "version": "3.6.9"
  }
 },
 "nbformat": 4,
 "nbformat_minor": 4
}
